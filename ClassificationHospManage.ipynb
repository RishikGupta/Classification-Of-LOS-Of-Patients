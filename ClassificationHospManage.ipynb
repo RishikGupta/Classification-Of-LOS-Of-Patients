{
 "cells": [
  {
   "cell_type": "code",
   "execution_count": 1,
   "metadata": {
    "_cell_guid": "79c7e3d0-c299-4dcb-8224-4455121ee9b0",
    "_uuid": "d629ff2d2480ee46fbb7e2d37f6b5fab8052498a"
   },
   "outputs": [],
   "source": [
    "import pandas as pd\n",
    "import numpy as np\n",
    "import lightgbm as lgb\n",
    "from catboost import CatBoostClassifier\n",
    "from sklearn.model_selection import StratifiedKFold\n",
    "from sklearn.metrics import accuracy_score\n",
    "pd.set_option('display.max_columns', 100)\n",
    "import warnings\n",
    "warnings.filterwarnings(\"ignore\")\n",
    "import time\n",
    "from sklearn import metrics"
   ]
  },
  {
   "cell_type": "code",
   "execution_count": 2,
   "metadata": {},
   "outputs": [],
   "source": [
    "train=pd.read_csv(r'C:\\Users\\rishi\\dataset/train.csv')\n",
    "test=pd.read_csv(r'C:\\Users\\rishi\\dataset/test.csv')"
   ]
  },
  {
   "cell_type": "markdown",
   "metadata": {},
   "source": [
    "### Concatinating"
   ]
  },
  {
   "cell_type": "code",
   "execution_count": 3,
   "metadata": {},
   "outputs": [],
   "source": [
    "train['train_or_test']='train'\n",
    "test['train_or_test']='test'\n",
    "df=pd.concat([train,test])"
   ]
  },
  {
   "cell_type": "markdown",
   "metadata": {},
   "source": [
    "### Mapping"
   ]
  },
  {
   "cell_type": "code",
   "execution_count": 4,
   "metadata": {},
   "outputs": [],
   "source": [
    "hospital_type_map={\n",
    " 'a': 0,\n",
    " 'b': 1,\n",
    " 'c': 2,\n",
    " 'e': 3,\n",
    " 'd': 4,\n",
    " 'f': 5,\n",
    " 'g': 6} \n",
    "\n",
    "hospital_region_map = {'X': 0, 'Y': 1, 'Z': 2}\n",
    "\n",
    "dep_map={'gynecology': 0,\n",
    " 'anesthesia': 1,\n",
    " 'radiotherapy': 2,\n",
    " 'TB & Chest disease': 3,\n",
    " 'surgery': 4}\n",
    "\n",
    "ward_type_map ={'R': 0, 'Q': 1, 'S': 2, 'P': 3, 'T': 4, 'U': 5}\n",
    "ward_fac_map ={'F':0, 'E': 1, 'D':2, 'C': 3, 'B': 4, 'A': 5}\n",
    "admiss_map = {'Trauma': 0, 'Emergency': 1, 'Urgent': 2}\n",
    "stay_map = {'21-30': 2,\n",
    " '11-20': 1,\n",
    " '31-40': 3,\n",
    " '51-60': 5,\n",
    " '0-10': 0,\n",
    " '41-50': 4,\n",
    " '71-80': 7,\n",
    " 'More than 100 Days': 10,\n",
    " '81-90': 8,\n",
    " '91-100': 9,\n",
    " '61-70': 6}"
   ]
  },
  {
   "cell_type": "code",
   "execution_count": 5,
   "metadata": {},
   "outputs": [],
   "source": [
    "df['Hospital_type_code'] = df['Hospital_type_code'].map(hospital_type_map)\n",
    "df['Hospital_region_code'] = df['Hospital_region_code'].map(hospital_region_map)\n",
    "df['Department'] = df['Department'].map(dep_map)\n",
    "df['Ward_Type'] = df['Ward_Type'].map(ward_type_map)\n",
    "df['Ward_Facility_Code'] = df['Ward_Facility_Code'].map(ward_fac_map)\n",
    "df['Type of Admission'] = df['Type of Admission'].map(admiss_map)\n",
    "df['Stay'] = df['Stay'].map(stay_map)"
   ]
  },
  {
   "cell_type": "code",
   "execution_count": 6,
   "metadata": {},
   "outputs": [],
   "source": [
    "df['Severity of Illness'] = df['Severity of Illness'].map({'Minor': 1,\n",
    "                          'Moderate': 2,\n",
    "                          'Extreme': 3})"
   ]
  },
  {
   "cell_type": "code",
   "execution_count": 7,
   "metadata": {},
   "outputs": [],
   "source": [
    "df['Age'] = df['Age'].map({'0-10': 5,\n",
    "                          '11-20': 15,\n",
    "                          '21-30': 25,\n",
    "                          '31-40': 35,\n",
    "                          '41-50': 45,\n",
    "                          '51-60': 55,\n",
    "                          '61-70': 65,\n",
    "                          '71-80': 75,\n",
    "                          '81-90': 85,\n",
    "                          '91-100': 95\n",
    "                         })"
   ]
  },
  {
   "cell_type": "markdown",
   "metadata": {},
   "source": [
    "### Feature Engineering"
   ]
  },
  {
   "cell_type": "code",
   "execution_count": 8,
   "metadata": {},
   "outputs": [],
   "source": [
    "df['mean_Admission_Deposit_per_illness']=df.groupby(['Severity of Illness'])['Admission_Deposit'].transform('mean')\n",
    "df['mean_Admission_Deposit_per_admission']=df.groupby(['Type of Admission'])['Admission_Deposit'].transform('mean')\n",
    "df['mean_Admission_Deposit_per_bed']=df.groupby(['Bed Grade'])['Admission_Deposit'].transform('mean')\n",
    "df['mean_Admission_Deposit_per_department']=df.groupby(['Department'])['Admission_Deposit'].transform('mean')\n",
    "df['mean_Admission_Deposit_per_hosp']=df.groupby(['Hospital_code'])['Admission_Deposit'].transform('mean')"
   ]
  },
  {
   "cell_type": "code",
   "execution_count": 9,
   "metadata": {},
   "outputs": [],
   "source": [
    "df['sum_Admission_Deposit_per_illness']=df.groupby(['Severity of Illness'])['Admission_Deposit'].transform('sum')\n",
    "df['sum_Admission_Deposit_per_admission']=df.groupby(['Type of Admission'])['Admission_Deposit'].transform('sum')\n",
    "df['sum_Admission_Deposit_per_bed']=df.groupby(['Bed Grade'])['Admission_Deposit'].transform('sum')\n",
    "df['sum_Admission_Deposit_per_department']=df.groupby(['Department'])['Admission_Deposit'].transform('sum')\n",
    "df['sum_Admission_Deposit_per_hosp']=df.groupby(['Hospital_code'])['Admission_Deposit'].transform('sum')"
   ]
  },
  {
   "cell_type": "code",
   "execution_count": 10,
   "metadata": {},
   "outputs": [],
   "source": [
    "df['max_Admission_Deposit_per_illness']=df.groupby(['Severity of Illness'])['Admission_Deposit'].transform('max')\n",
    "df['max_Admission_Deposit_per_admission']=df.groupby(['Type of Admission'])['Admission_Deposit'].transform('max')\n",
    "df['max_Admission_Deposit_per_bed']=df.groupby(['Bed Grade'])['Admission_Deposit'].transform('max')\n",
    "df['max_Admission_Deposit_per_department']=df.groupby(['Department'])['Admission_Deposit'].transform('max')\n",
    "df['max_Admission_Deposit_per_hosp']=df.groupby(['Hospital_code'])['Admission_Deposit'].transform('max')"
   ]
  },
  {
   "cell_type": "code",
   "execution_count": 11,
   "metadata": {},
   "outputs": [],
   "source": [
    "df['min_Admission_Deposit_per_illness']=df.groupby(['Severity of Illness'])['Admission_Deposit'].transform('min')\n",
    "df['min_Admission_Deposit_per_admission']=df.groupby(['Type of Admission'])['Admission_Deposit'].transform('min')\n",
    "df['min_Admission_Deposit_per_bed']=df.groupby(['Bed Grade'])['Admission_Deposit'].transform('min')\n",
    "df['min_Admission_Deposit_per_department']=df.groupby(['Department'])['Admission_Deposit'].transform('min')\n",
    "df['min_Admission_Deposit_per_hosp']=df.groupby(['Hospital_code'])['Admission_Deposit'].transform('min')"
   ]
  },
  {
   "cell_type": "code",
   "execution_count": 12,
   "metadata": {},
   "outputs": [],
   "source": [
    "df['mean_Admission_Deposit_per_patient_hosp']=df.groupby(['patientid','Hospital_code'])['Admission_Deposit'].transform('mean')\n",
    "df['sum_Admission_Deposit_per_patient_hosp']=df.groupby(['patientid','Hospital_code'])['Admission_Deposit'].transform('sum')\n",
    "df['max_Admission_Deposit_per_patient_hosp']=df.groupby(['patientid','Hospital_code'])['Admission_Deposit'].transform('max')\n",
    "df['min_Admission_Deposit_per_patient_hosp']=df.groupby(['patientid','Hospital_code'])['Admission_Deposit'].transform('min')"
   ]
  },
  {
   "cell_type": "code",
   "execution_count": 13,
   "metadata": {},
   "outputs": [],
   "source": [
    "df['illness_count']=df.groupby('Hospital_code')['Severity of Illness'].transform('count')\n",
    "df['bed_count']=df.groupby('Hospital_code')['Bed Grade'].transform('count')\n",
    "df['room_count']=df.groupby('Hospital_code')['Available Extra Rooms in Hospital'].transform('count')\n",
    "df['Department_count']=df.groupby('Hospital_code')['Department'].transform('count')\n",
    "df['ward_count']=df.groupby('Hospital_code')['Ward_Type'].transform('count')\n",
    "df['TOA_count']=df.groupby('Hospital_code')['Type of Admission'].transform('count')"
   ]
  },
  {
   "cell_type": "code",
   "execution_count": 14,
   "metadata": {},
   "outputs": [],
   "source": [
    "df['meanVisitors with Patient_per_patient']=df.groupby(['patientid'])['Visitors with Patient'].transform('mean')\n",
    "df['meanVisitors with Patient_per_patient']=df.groupby(['patientid'])['Visitors with Patient'].transform('sum')\n",
    "df['meanVisitors with Patient_per_patient']=df.groupby(['patientid'])['Visitors with Patient'].transform('max')\n",
    "df['meanVisitors with Patient_per_patient']=df.groupby(['patientid'])['Visitors with Patient'].transform('min')"
   ]
  },
  {
   "cell_type": "code",
   "execution_count": 15,
   "metadata": {},
   "outputs": [],
   "source": [
    "df['unique_hospital_visited']=df.groupby('patientid')['Hospital_code'].transform('nunique')\n",
    "df['unique_hospitaltype_visited']=df.groupby('patientid')['Hospital_type_code'].transform('nunique')\n",
    "df['count_visited_same_hospital']=df.groupby(['patientid','Hospital_code'])['Hospital_code'].transform('count')\n",
    "\n",
    "df['mean_Admission_Deposit_per_patient']=df.groupby(['patientid'])['Admission_Deposit'].transform('mean')\n",
    "df['sum_Admission_Deposit_per_patient']=df.groupby(['patientid'])['Admission_Deposit'].transform('sum')\n",
    "df['max_Admission_Deposit_per_patient']=df.groupby(['patientid'])['Admission_Deposit'].transform('max')\n",
    "df['min_Admission_Deposit_per_patient']=df.groupby(['patientid'])['Admission_Deposit'].transform('min')\n",
    "\n",
    "df['mean_visitors_per_patient']=df.groupby(['patientid'])['Visitors with Patient'].transform('mean')\n",
    "df['unique city']=df.groupby('patientid')['City_Code_Hospital'].transform('nunique')\n",
    "df['unique illness type']=df.groupby('patientid')['Severity of Illness'].transform('nunique')\n",
    "df['unique admission type']=df.groupby('patientid')['Type of Admission'].transform('nunique')\n",
    "\n",
    "df['mean_Admission_Deposit_per_patient_in_same_hospital']=df.groupby(['patientid','Hospital_code'])['Admission_Deposit'].transform('mean')"
   ]
  },
  {
   "cell_type": "code",
   "execution_count": 16,
   "metadata": {},
   "outputs": [],
   "source": [
    "df['total_no_of_patients_in_hospital']=df.groupby('Hospital_code')['patientid'].transform('count')\n",
    "df['total_no_of_patients_in_hospital_from_same_city']=df.groupby(['Hospital_code','City_Code_Patient'])['patientid'].transform('count')\n",
    "df['total_no_of_patients_in_patientcity']=df.groupby('City_Code_Patient')['patientid'].transform('count')\n",
    "df['total_no_of_patients_in_hospitalcity']=df.groupby('City_Code_Hospital')['patientid'].transform('count')"
   ]
  },
  {
   "cell_type": "code",
   "execution_count": 17,
   "metadata": {},
   "outputs": [],
   "source": [
    "df['number_of_time_patient_visited']=df.groupby('patientid')['patientid'].transform('count')\n",
    "df['Total_Hospitals_in_city']=df.groupby('City_Code_Hospital')['Hospital_code'].transform('nunique')\n",
    "df['Total_Hospitals_in_city_of_same_type']=df.groupby(['City_Code_Hospital','Hospital_type_code'])['Hospital_code'].transform('nunique')"
   ]
  },
  {
   "cell_type": "code",
   "execution_count": 18,
   "metadata": {},
   "outputs": [],
   "source": [
    "df['total_no_of_patients_per_Department']=df.groupby('Department')['patientid'].transform('count')\n",
    "df['total_no_of_patients_per_Severity of Illness']=df.groupby('Severity of Illness')['patientid'].transform('count')\n",
    "df['Total_Hospitals_in_region']=df.groupby('Hospital_region_code')['patientid'].transform('count')\n",
    "df['total_no_of_patients_in_hospitalward']=df.groupby(['Hospital_code','Ward_Type'])['patientid'].transform('count')\n",
    "df['total_no_of_patients_in_hospitaldepartment']=df.groupby(['Hospital_code','Department'])['patientid'].transform('count')\n",
    "df['total_no_of_patients_in_hospitalBedGrade']=df.groupby(['Hospital_code','Bed Grade'])['patientid'].transform('count')\n",
    "df['total_no_of_patients_in_hospitalSeverityofIllness']=df.groupby(['Hospital_code','Type of Admission'])['patientid'].transform('count')\n",
    "df['unique_patientcity_in_hospital']=df.groupby('Hospital_code')['City_Code_Patient'].transform('nunique')\n",
    "df['Average_deposit']=df.groupby('Hospital_code')['Available Extra Rooms in Hospital'].transform('mean')\n",
    "df['Total_Hospitals_in_patientcity']=df.groupby('City_Code_Patient')['Hospital_code'].transform('nunique')\n",
    "df['Total_Hospitals_in_region']=df.groupby('Hospital_region_code')['Hospital_code'].transform('nunique')"
   ]
  },
  {
   "cell_type": "markdown",
   "metadata": {},
   "source": [
    "### Rank features"
   ]
  },
  {
   "cell_type": "code",
   "execution_count": 19,
   "metadata": {},
   "outputs": [],
   "source": [
    "df[\"RANK\"] = df.groupby(\"patientid\")['patientid'].rank(method=\"first\", ascending=True)\n",
    "df[\"RANK_avg\"] = df.groupby(\"patientid\")['patientid'].rank(method=\"average\", ascending=True)\n",
    "df[\"RANK_max\"] = df.groupby(\"patientid\")['patientid'].rank(method=\"max\", ascending=True)\n",
    "df[\"RANK_min\"] = df.groupby(\"patientid\")['patientid'].rank(method=\"min\", ascending=True)\n",
    "df[\"RANK_DIFF\"] = df['RANK_max'] - df['RANK_min']\n",
    "df[\"RANK_Type_Admission\"] = df.groupby(['patientid','Type of Admission'])['patientid'].rank(method='first',ascending=True)\n",
    "df[\"RANK_Type_City_Code\"] = df.groupby(['patientid','City_Code_Hospital'])['patientid'].rank(method='first',ascending=True)\n",
    "df[\"RANK_Type_hosp_Code\"] = df.groupby(['patientid','Hospital_code'])['patientid'].rank(method='first',ascending=True)\n",
    "df[\"RANK_Type_hosp_type_Code\"] = df.groupby(['patientid','Hospital_type_code'])['patientid'].rank(method='first',ascending=True)\n",
    "df[\"RANK_Type_rooms\"] = df.groupby(['patientid','Available Extra Rooms in Hospital'])['patientid'].rank(method='first',ascending=True)\n",
    "df[\"RANK_Type_Department\"] = df.groupby(['patientid','Department'])['patientid'].rank(method='first',ascending=True)\n",
    "df[\"RANK_Type_Ward_Type\"] = df.groupby(['patientid','Ward_Type'])['patientid'].rank(method='first',ascending=True)\n",
    "df[\"RANK_Type_Ward_Facility_Code\"] = df.groupby(['patientid','Ward_Facility_Code'])['patientid'].rank(method='first',ascending=True)\n",
    "df[\"RANK_Type_Hospital_region_code\"] = df.groupby(['patientid','Hospital_region_code'])['patientid'].rank(method='first',ascending=True)\n",
    "df['Rank_City_Code_Patient'] = df.groupby(['patientid','City_Code_Patient'])['patientid'].rank(method='first',ascending=True)\n",
    "df['Rank_City_Code_Vist'] = df.groupby(['patientid','Visitors with Patient'])['patientid'].rank(method='first',ascending=True)\n",
    "df['Rank_ill+admiss'] = df.groupby(['patientid','Type of Admission','Severity of Illness'])['patientid'].rank(method='first',ascending=True)\n",
    "df['Rank_ill+admiss_max'] = df.groupby(['patientid','Type of Admission','Severity of Illness'])['patientid'].rank(method='max',ascending=True)\n",
    "df['Rank_ill+admiss_min'] = df.groupby(['patientid','Type of Admission','Severity of Illness'])['patientid'].rank(method='min',ascending=True)\n",
    "df['Rank_ill+admiss_avg'] = df.groupby(['patientid','Type of Admission','Severity of Illness'])['patientid'].rank(method='average',ascending=True)\n",
    "df['Rank_ill+admiss_diff'] = df['Rank_ill+admiss_max'] - df['Rank_ill+admiss_min']\n",
    "cols_rank = ['Type of Admission','City_Code_Hospital','Hospital_code','Hospital_type_code','Available Extra Rooms in Hospital','Department','Ward_Type','Ward_Facility_Code',\n",
    "             'Hospital_region_code','City_Code_Patient','Visitors with Patient']\n",
    "for i in cols_rank:\n",
    "    df[f\"RANK_{i}_min\"] = df.groupby(['patientid',i])['patientid'].rank(method='min',ascending=True)\n",
    "    df[f\"RANK_{i}_max\"] = df.groupby(['patientid',i])['patientid'].rank(method='max',ascending=True)\n",
    "    df[f\"RANK_{i}_avg\"] = df.groupby(['patientid',i])['patientid'].rank(method='average',ascending=True)\n",
    "    df[f'diff_{i}_max_min'] = df[f\"RANK_{i}_max\"] -  df[f\"RANK_{i}_min\"]"
   ]
  },
  {
   "cell_type": "code",
   "execution_count": 20,
   "metadata": {},
   "outputs": [],
   "source": [
    "train=df.loc[df.train_or_test.isin(['train'])]\n",
    "test=df.loc[df.train_or_test.isin(['test'])]\n",
    "train.drop(columns={'train_or_test'},axis=1,inplace=True)\n",
    "test.drop(columns={'train_or_test'},axis=1,inplace=True)"
   ]
  },
  {
   "cell_type": "code",
   "execution_count": 21,
   "metadata": {},
   "outputs": [],
   "source": [
    "x=train.drop(columns={'case_id','Stay'},axis=1)\n",
    "y=train.loc[:,['Stay']]\n",
    "test=test.drop(columns={'case_id','Stay'},axis=1)"
   ]
  },
  {
   "cell_type": "code",
   "execution_count": null,
   "metadata": {},
   "outputs": [],
   "source": [
    "test.describe()"
   ]
  },
  {
   "cell_type": "markdown",
   "metadata": {},
   "source": [
    "### StratifiedKFOLD"
   ]
  },
  {
   "cell_type": "code",
   "execution_count": 22,
   "metadata": {},
   "outputs": [
    {
     "name": "stdout",
     "output_type": "stream",
     "text": [
      "0:\tlearn: 0.3775995\ttest: 0.3782664\tbest: 0.3782664 (0)\ttotal: 471ms\tremaining: 8m 37s\n",
      "200:\tlearn: 0.4544975\ttest: 0.4318356\tbest: 0.4323136 (197)\ttotal: 1m 3s\tremaining: 4m 44s\n",
      "400:\tlearn: 0.4753499\ttest: 0.4377310\tbest: 0.4377310 (382)\ttotal: 2m 3s\tremaining: 3m 34s\n",
      "600:\tlearn: 0.4935679\ttest: 0.4398343\tbest: 0.4403760 (593)\ttotal: 3m 2s\tremaining: 2m 31s\n",
      "800:\tlearn: 0.5126570\ttest: 0.4416507\tbest: 0.4416507 (799)\ttotal: 4m 2s\tremaining: 1m 30s\n",
      "bestTest = 0.4424474187\n",
      "bestIteration = 814\n",
      "Shrink model to first 815 iterations.\n",
      "1  err_lgm:  0.4424474187380497\n",
      "Accuracy: 0.44762148000822044\n",
      "MAE:  1.0096876991714467\n",
      "MSE:  2.6577437858508604\n",
      "RMSE:  1.6302588094688708\n",
      "0:\tlearn: 0.3779819\ttest: 0.3749522\tbest: 0.3749522 (0)\ttotal: 345ms\tremaining: 6m 18s\n",
      "200:\tlearn: 0.4540655\ttest: 0.4380178\tbest: 0.4386233 (191)\ttotal: 1m 3s\tremaining: 4m 44s\n",
      "400:\tlearn: 0.4754278\ttest: 0.4425749\tbest: 0.4426068 (395)\ttotal: 2m 3s\tremaining: 3m 34s\n",
      "600:\tlearn: 0.4955119\ttest: 0.4437540\tbest: 0.4443913 (571)\ttotal: 3m 3s\tremaining: 2m 32s\n",
      "bestTest = 0.4448056087\n",
      "bestIteration = 640\n",
      "Shrink model to first 641 iterations.\n",
      "2  err_lgm:  0.44483747609942637\n",
      "Accuracy: 0.44155042356813634\n",
      "MAE:  1.012874442319949\n",
      "MSE:  2.689611217335883\n",
      "RMSE:  1.6400034199159106\n",
      "0:\tlearn: 0.3778261\ttest: 0.3763544\tbest: 0.3763544 (0)\ttotal: 353ms\tremaining: 6m 27s\n",
      "200:\tlearn: 0.4543240\ttest: 0.4320268\tbest: 0.4320268 (200)\ttotal: 1m 4s\tremaining: 4m 47s\n",
      "400:\tlearn: 0.4750454\ttest: 0.4362014\tbest: 0.4363607 (387)\ttotal: 2m 5s\tremaining: 3m 37s\n",
      "600:\tlearn: 0.4933873\ttest: 0.4399936\tbest: 0.4399936 (600)\ttotal: 3m 5s\tremaining: 2m 33s\n",
      "800:\tlearn: 0.5114354\ttest: 0.4407903\tbest: 0.4415551 (724)\ttotal: 4m 6s\tremaining: 1m 31s\n",
      "bestTest = 0.4415551307\n",
      "bestIteration = 724\n",
      "Shrink model to first 725 iterations.\n",
      "3  err_lgm:  0.44155513065646906\n",
      "Accuracy: 0.44650499490638274\n",
      "MAE:  1.0122052262587635\n",
      "MSE:  2.671542383683875\n",
      "RMSE:  1.634485357439422\n",
      "0:\tlearn: 0.3777362\ttest: 0.3770356\tbest: 0.3770356 (0)\ttotal: 341ms\tremaining: 6m 14s\n",
      "200:\tlearn: 0.4549066\ttest: 0.4331878\tbest: 0.4332515 (196)\ttotal: 1m 3s\tremaining: 4m 44s\n",
      "400:\tlearn: 0.4757236\ttest: 0.4374263\tbest: 0.4376813 (366)\ttotal: 2m 3s\tremaining: 3m 34s\n",
      "bestTest = 0.4376812518\n",
      "bestIteration = 366\n",
      "Shrink model to first 367 iterations.\n",
      "4  err_lgm:  0.43768125179260015\n",
      "Accuracy: 0.4403795431562344\n",
      "MAE:  1.0229134134293636\n",
      "MSE:  2.705057522546926\n",
      "RMSE:  1.6447059076159867\n",
      "0:\tlearn: 0.3782355\ttest: 0.3720960\tbest: 0.3720960 (0)\ttotal: 351ms\tremaining: 6m 25s\n",
      "200:\tlearn: 0.4540356\ttest: 0.4348131\tbest: 0.4351955 (198)\ttotal: 1m 4s\tremaining: 4m 49s\n",
      "400:\tlearn: 0.4759467\ttest: 0.4379999\tbest: 0.4383824 (380)\ttotal: 2m 6s\tremaining: 3m 40s\n",
      "600:\tlearn: 0.4950959\ttest: 0.4392428\tbest: 0.4397846 (581)\ttotal: 3m 7s\tremaining: 2m 35s\n",
      "800:\tlearn: 0.5145531\ttest: 0.4392428\tbest: 0.4407088 (769)\ttotal: 4m 9s\tremaining: 1m 33s\n",
      "bestTest = 0.4411230441\n",
      "bestIteration = 846\n",
      "Shrink model to first 847 iterations.\n",
      "5  err_lgm:  0.4411230440740623\n",
      "Accuracy: 0.44927636564621964\n",
      "MAE:  1.0125880365849773\n",
      "MSE:  2.651072373243252\n",
      "RMSE:  1.628211403117928\n",
      "0:\tlearn: 0.3778318\ttest: 0.3763982\tbest: 0.3763982 (0)\ttotal: 350ms\tremaining: 6m 25s\n",
      "200:\tlearn: 0.4542693\ttest: 0.4373307\tbest: 0.4378406 (188)\ttotal: 1m 4s\tremaining: 4m 48s\n",
      "400:\tlearn: 0.4739779\ttest: 0.4406131\tbest: 0.4422066 (339)\ttotal: 2m 3s\tremaining: 3m 35s\n",
      "bestTest = 0.4422065713\n",
      "bestIteration = 339\n",
      "Shrink model to first 340 iterations.\n",
      "6  err_lgm:  0.4422065712737818\n",
      "Accuracy: 0.45103038238919024\n",
      "MAE:  1.0122693521144714\n",
      "MSE:  2.655788903406737\n",
      "RMSE:  1.6296591371838274\n",
      "0:\tlearn: 0.3777752\ttest: 0.3767806\tbest: 0.3767806 (0)\ttotal: 345ms\tremaining: 6m 19s\n",
      "200:\tlearn: 0.4549279\ttest: 0.4392428\tbest: 0.4392428 (200)\ttotal: 1m 4s\tremaining: 4m 47s\n",
      "400:\tlearn: 0.4754226\ttest: 0.4427802\tbest: 0.4434176 (375)\ttotal: 2m 3s\tremaining: 3m 35s\n",
      "600:\tlearn: 0.4940725\ttest: 0.4451385\tbest: 0.4459352 (594)\ttotal: 3m 2s\tremaining: 2m 31s\n",
      "800:\tlearn: 0.5131367\ttest: 0.4463495\tbest: 0.4475605 (737)\ttotal: 4m 3s\tremaining: 1m 30s\n",
      "bestTest = 0.4475604704\n",
      "bestIteration = 737\n",
      "Shrink model to first 738 iterations.\n",
      "7  err_lgm:  0.44756047037827845\n",
      "Accuracy: 0.45969411816222283\n",
      "MAE:  0.9981834985181172\n",
      "MSE:  2.6026323337263775\n",
      "RMSE:  1.6132675952012354\n",
      "0:\tlearn: 0.3813904\ttest: 0.3856082\tbest: 0.3856082 (0)\ttotal: 344ms\tremaining: 6m 17s\n",
      "200:\tlearn: 0.4546552\ttest: 0.4385098\tbest: 0.4387966 (199)\ttotal: 1m 4s\tremaining: 4m 48s\n",
      "400:\tlearn: 0.4748454\ttest: 0.4410912\tbest: 0.4416967 (387)\ttotal: 2m 4s\tremaining: 3m 37s\n",
      "600:\tlearn: 0.4933396\ttest: 0.4440231\tbest: 0.4444692 (573)\ttotal: 3m 5s\tremaining: 2m 33s\n",
      "bestTest = 0.4459351796\n",
      "bestIteration = 697\n",
      "Shrink model to first 698 iterations.\n",
      "8  err_lgm:  0.4459351795786991\n",
      "Accuracy: 0.4406810560108969\n",
      "MAE:  1.0129385895025336\n",
      "MSE:  2.697950858854648\n",
      "RMSE:  1.6425440203704276\n",
      "0:\tlearn: 0.3773644\ttest: 0.3801268\tbest: 0.3801268 (0)\ttotal: 352ms\tremaining: 6m 26s\n",
      "200:\tlearn: 0.4547473\ttest: 0.4397527\tbest: 0.4400395 (185)\ttotal: 1m 4s\tremaining: 4m 48s\n",
      "400:\tlearn: 0.4754863\ttest: 0.4440231\tbest: 0.4444055 (382)\ttotal: 2m 4s\tremaining: 3m 37s\n",
      "600:\tlearn: 0.4936193\ttest: 0.4442780\tbest: 0.4450110 (505)\ttotal: 3m 3s\tremaining: 2m 32s\n",
      "bestTest = 0.4450109946\n",
      "bestIteration = 505\n",
      "Shrink model to first 506 iterations.\n",
      "9  err_lgm:  0.44501099461423244\n",
      "Accuracy: 0.4409206816251967\n",
      "MAE:  1.0132254055259886\n",
      "MSE:  2.6986200962427103\n",
      "RMSE:  1.6427477275110474\n",
      "0:\tlearn: 0.3822013\ttest: 0.3788202\tbest: 0.3788202 (0)\ttotal: 345ms\tremaining: 6m 18s\n",
      "200:\tlearn: 0.4548889\ttest: 0.4378087\tbest: 0.4381274 (199)\ttotal: 1m 4s\tremaining: 4m 46s\n",
      "400:\tlearn: 0.4752881\ttest: 0.4405494\tbest: 0.4415373 (377)\ttotal: 2m 3s\tremaining: 3m 35s\n",
      "600:\tlearn: 0.4940159\ttest: 0.4418241\tbest: 0.4431945 (511)\ttotal: 3m 3s\tremaining: 2m 32s\n",
      "bestTest = 0.4431944931\n",
      "bestIteration = 511\n",
      "Shrink model to first 512 iterations.\n",
      "10  err_lgm:  0.44319449313234965\n",
      "Accuracy: 0.44542435692396987\n",
      "MAE:  1.0127792472672807\n",
      "MSE:  2.672233022084834\n",
      "RMSE:  1.6346966146918007\n",
      "Wall time: 38min 14s\n"
     ]
    }
   ],
   "source": [
    "%%time\n",
    "errcat = [] \n",
    "y_pred_tot_lgmcat = np.zeros((len(test), 11))\n",
    "\n",
    "\n",
    "fold = StratifiedKFold(n_splits=10, shuffle=True, random_state=2020)\n",
    "i = 1\n",
    "\n",
    "for train_index, test_index in fold.split(x, y):\n",
    "    x_train, x_val = x.iloc[train_index], x.iloc[test_index]\n",
    "    y_train, y_val = y.iloc[train_index], y.iloc[test_index]\n",
    "    n = CatBoostClassifier(n_estimators=1100,\n",
    "                       random_state=2020,\n",
    "                       eval_metric='Accuracy',\n",
    "                       learning_rate=0.08,\n",
    "                       depth=8,\n",
    "                       bagging_temperature=0.3,\n",
    "                       task_type='GPU'\n",
    "                       #num_leaves=64\n",
    "                       \n",
    "                       )\n",
    "    n.fit(x_train, y_train,eval_set=[(x_val, y_val)], early_stopping_rounds=100,verbose=200)\n",
    "    pred_ycat = n.predict(x_val)\n",
    "    print(i, \" err_lgm: \", accuracy_score(y_val,pred_ycat))\n",
    "    errcat.append(accuracy_score(y_val,pred_ycat))\n",
    "    print(\"Accuracy:\",metrics.explained_variance_score(y_val, pred_ycat))\n",
    "    print(\"MAE: \", metrics.mean_absolute_error(y_val, pred_ycat))\n",
    "    print(\"MSE: \", metrics.mean_squared_error(y_val, pred_ycat))\n",
    "    print(\"RMSE: \", np.sqrt(metrics.mean_squared_error(y_val, pred_ycat)))\n",
    "    y_pred_tot_lgmcat+= n.predict(test)\n",
    "    i = i + 1\n"
   ]
  },
  {
   "cell_type": "code",
   "execution_count": 23,
   "metadata": {},
   "outputs": [
    {
     "data": {
      "text/plain": [
       "0.4431552030337948"
      ]
     },
     "execution_count": 23,
     "metadata": {},
     "output_type": "execute_result"
    }
   ],
   "source": [
    "y_pred_tot_lgmcat=y_pred_tot_lgmcat/10\n",
    "sum(errcat)/10"
   ]
  },
  {
   "cell_type": "code",
   "execution_count": 24,
   "metadata": {},
   "outputs": [
    {
     "data": {
      "text/plain": [
       "44.2324"
      ]
     },
     "execution_count": 24,
     "metadata": {},
     "output_type": "execute_result"
    }
   ],
   "source": [
    "44.2324"
   ]
  },
  {
   "cell_type": "code",
   "execution_count": 25,
   "metadata": {},
   "outputs": [],
   "source": [
    "params = {}\n",
    "params['learning_rate'] = 0.08\n",
    "params['max_depth'] = 8\n",
    "params['n_estimators'] = 1100\n",
    "params['objective'] = 'multiclass'\n",
    "params['boosting_type'] = 'gbdt'\n",
    "params['subsample'] = 0.7\n",
    "params['random_state'] = 2020\n",
    "params['colsample_bytree']=0.7\n",
    "params['min_data_in_leaf'] = 100\n",
    "params['reg_alpha'] = 1.6\n",
    "params['reg_lambda'] = 1.1\n",
    "params['num_leaves'] = 64"
   ]
  },
  {
   "cell_type": "code",
   "execution_count": 26,
   "metadata": {},
   "outputs": [
    {
     "name": "stdout",
     "output_type": "stream",
     "text": [
      "[LightGBM] [Warning] min_data_in_leaf is set=100, min_child_samples=20 will be ignored. Current value: min_data_in_leaf=100\n",
      "Training until validation scores don't improve for 100 rounds\n",
      "[200]\tvalid_0's multi_error: 0.555991\tvalid_0's multi_logloss: 1.44701\n",
      "Early stopping, best iteration is:\n",
      "[240]\tvalid_0's multi_error: 0.554621\tvalid_0's multi_logloss: 1.44535\n",
      "1  err_lgm:  0.44537922243467176\n",
      "Accuracy: 0.4505951214202816\n",
      "MAE:  1.004493307839388\n",
      "MSE:  2.6334289356277885\n",
      "RMSE:  1.6227843158065671\n",
      "[LightGBM] [Warning] min_data_in_leaf is set=100, min_child_samples=20 will be ignored. Current value: min_data_in_leaf=100\n",
      "Training until validation scores don't improve for 100 rounds\n",
      "[200]\tvalid_0's multi_error: 0.555672\tvalid_0's multi_logloss: 1.44712\n",
      "[400]\tvalid_0's multi_error: 0.552772\tvalid_0's multi_logloss: 1.44348\n",
      "Early stopping, best iteration is:\n",
      "[353]\tvalid_0's multi_error: 0.554525\tvalid_0's multi_logloss: 1.44312\n",
      "2  err_lgm:  0.4454748247291268\n",
      "Accuracy: 0.44262744451422675\n",
      "MAE:  1.0081580624601658\n",
      "MSE:  2.6709369024856597\n",
      "RMSE:  1.6343001261964278\n",
      "[LightGBM] [Warning] min_data_in_leaf is set=100, min_child_samples=20 will be ignored. Current value: min_data_in_leaf=100\n",
      "Training until validation scores don't improve for 100 rounds\n",
      "[200]\tvalid_0's multi_error: 0.558349\tvalid_0's multi_logloss: 1.45001\n",
      "[400]\tvalid_0's multi_error: 0.554844\tvalid_0's multi_logloss: 1.44502\n",
      "Early stopping, best iteration is:\n",
      "[390]\tvalid_0's multi_error: 0.554908\tvalid_0's multi_logloss: 1.4448\n",
      "3  err_lgm:  0.4450924155513066\n",
      "Accuracy: 0.45165909799448833\n",
      "MAE:  1.0045889101338432\n",
      "MSE:  2.6307839388145315\n",
      "RMSE:  1.6219691547050243\n",
      "[LightGBM] [Warning] min_data_in_leaf is set=100, min_child_samples=20 will be ignored. Current value: min_data_in_leaf=100\n",
      "Training until validation scores don't improve for 100 rounds\n",
      "[200]\tvalid_0's multi_error: 0.55824\tvalid_0's multi_logloss: 1.44826\n",
      "[400]\tvalid_0's multi_error: 0.554702\tvalid_0's multi_logloss: 1.44252\n",
      "Early stopping, best iteration is:\n",
      "[405]\tvalid_0's multi_error: 0.554766\tvalid_0's multi_logloss: 1.44248\n",
      "4  err_lgm:  0.4452340737435865\n",
      "Accuracy: 0.4494804963319481\n",
      "MAE:  1.006373689410115\n",
      "MSE:  2.6417986551515344\n",
      "RMSE:  1.6253610845444573\n",
      "[LightGBM] [Warning] min_data_in_leaf is set=100, min_child_samples=20 will be ignored. Current value: min_data_in_leaf=100\n",
      "Training until validation scores don't improve for 100 rounds\n",
      "[200]\tvalid_0's multi_error: 0.558877\tvalid_0's multi_logloss: 1.44841\n",
      "[400]\tvalid_0's multi_error: 0.5562\tvalid_0's multi_logloss: 1.44398\n",
      "Early stopping, best iteration is:\n",
      "[366]\tvalid_0's multi_error: 0.555913\tvalid_0's multi_logloss: 1.4437\n",
      "5  err_lgm:  0.44408680964976577\n",
      "Accuracy: 0.4529867267805452\n",
      "MAE:  1.0048121355046369\n",
      "MSE:  2.6207336116511044\n",
      "RMSE:  1.6188680031587208\n",
      "[LightGBM] [Warning] min_data_in_leaf is set=100, min_child_samples=20 will be ignored. Current value: min_data_in_leaf=100\n",
      "Training until validation scores don't improve for 100 rounds\n",
      "[200]\tvalid_0's multi_error: 0.555722\tvalid_0's multi_logloss: 1.44458\n",
      "[400]\tvalid_0's multi_error: 0.552153\tvalid_0's multi_logloss: 1.43944\n",
      "Early stopping, best iteration is:\n",
      "[414]\tvalid_0's multi_error: 0.552089\tvalid_0's multi_logloss: 1.43936\n",
      "6  err_lgm:  0.4479110232958348\n",
      "Accuracy: 0.46307875256491093\n",
      "MAE:  0.9947735746837056\n",
      "MSE:  2.5751936008158323\n",
      "RMSE:  1.604740976237546\n",
      "[LightGBM] [Warning] min_data_in_leaf is set=100, min_child_samples=20 will be ignored. Current value: min_data_in_leaf=100\n",
      "Training until validation scores don't improve for 100 rounds\n",
      "[200]\tvalid_0's multi_error: 0.553396\tvalid_0's multi_logloss: 1.44074\n",
      "[400]\tvalid_0's multi_error: 0.550559\tvalid_0's multi_logloss: 1.43695\n",
      "Early stopping, best iteration is:\n",
      "[381]\tvalid_0's multi_error: 0.551005\tvalid_0's multi_logloss: 1.43669\n",
      "7  err_lgm:  0.44899455049555437\n",
      "Accuracy: 0.45796260041930636\n",
      "MAE:  0.998119761624016\n",
      "MSE:  2.597342171515982\n",
      "RMSE:  1.6116271813034124\n",
      "[LightGBM] [Warning] min_data_in_leaf is set=100, min_child_samples=20 will be ignored. Current value: min_data_in_leaf=100\n",
      "Training until validation scores don't improve for 100 rounds\n",
      "[200]\tvalid_0's multi_error: 0.555021\tvalid_0's multi_logloss: 1.45182\n",
      "[400]\tvalid_0's multi_error: 0.551802\tvalid_0's multi_logloss: 1.44773\n",
      "Early stopping, best iteration is:\n",
      "[367]\tvalid_0's multi_error: 0.552408\tvalid_0's multi_logloss: 1.44752\n",
      "8  err_lgm:  0.44759233882532906\n",
      "Accuracy: 0.44716225998820436\n",
      "MAE:  1.0029956340227542\n",
      "MSE:  2.6489371872908634\n",
      "RMSE:  1.6275555865440858\n",
      "[LightGBM] [Warning] min_data_in_leaf is set=100, min_child_samples=20 will be ignored. Current value: min_data_in_leaf=100\n",
      "Training until validation scores don't improve for 100 rounds\n",
      "[200]\tvalid_0's multi_error: 0.555467\tvalid_0's multi_logloss: 1.44737\n",
      "[400]\tvalid_0's multi_error: 0.551738\tvalid_0's multi_logloss: 1.44296\n",
      "Early stopping, best iteration is:\n",
      "[334]\tvalid_0's multi_error: 0.551101\tvalid_0's multi_logloss: 1.44329\n",
      "9  err_lgm:  0.44889894515440265\n",
      "Accuracy: 0.44552072719883096\n",
      "MAE:  1.0031868447050576\n",
      "MSE:  2.6603460913349695\n",
      "RMSE:  1.6310567406853047\n",
      "[LightGBM] [Warning] min_data_in_leaf is set=100, min_child_samples=20 will be ignored. Current value: min_data_in_leaf=100\n",
      "Training until validation scores don't improve for 100 rounds\n",
      "[200]\tvalid_0's multi_error: 0.555563\tvalid_0's multi_logloss: 1.44122\n",
      "[400]\tvalid_0's multi_error: 0.552216\tvalid_0's multi_logloss: 1.43532\n",
      "Early stopping, best iteration is:\n",
      "[422]\tvalid_0's multi_error: 0.551515\tvalid_0's multi_logloss: 1.43525\n",
      "10  err_lgm:  0.4484846553427452\n",
      "Accuracy: 0.45027625758049084\n",
      "MAE:  0.9997131839765449\n",
      "MSE:  2.630676567130884\n",
      "RMSE:  1.6219360551917217\n",
      "Wall time: 48min 46s\n"
     ]
    },
    {
     "data": {
      "text/plain": [
       "0.44671488592223235"
      ]
     },
     "execution_count": 26,
     "metadata": {},
     "output_type": "execute_result"
    }
   ],
   "source": [
    "%%time\n",
    "err = [] \n",
    "\n",
    "\n",
    "fold = StratifiedKFold(n_splits=10, shuffle=True, random_state=2020)\n",
    "i = 1\n",
    "\n",
    "for train_index, test_index in fold.split(x, y):\n",
    "    x_train, x_val = x.iloc[train_index], x.iloc[test_index]\n",
    "    y_train, y_val = y.iloc[train_index], y.iloc[test_index]\n",
    "    m = lgb.LGBMClassifier(**params)\n",
    "    m.fit(x_train, y_train,eval_set=[(x_val, y_val)], eval_metric='multi_error', early_stopping_rounds=100,verbose=200)\n",
    "    pred_y = m.predict(x_val)\n",
    "    print(i, \" err_lgm: \", accuracy_score(y_val,pred_y))\n",
    "    err.append(accuracy_score(y_val,pred_y))\n",
    "    print(\"Accuracy:\",metrics.explained_variance_score(y_val, pred_y))\n",
    "    print(\"MAE: \", metrics.mean_absolute_error(y_val, pred_y))\n",
    "    print(\"MSE: \", metrics.mean_squared_error(y_val, pred_y))\n",
    "    print(\"RMSE: \", np.sqrt(metrics.mean_squared_error(y_val, pred_y)))\n",
    "    i = i + 1\n",
    "sum(err)/10"
   ]
  },
  {
   "cell_type": "code",
   "execution_count": 27,
   "metadata": {},
   "outputs": [
    {
     "data": {
      "text/plain": [
       "0.44671488592223235"
      ]
     },
     "execution_count": 27,
     "metadata": {},
     "output_type": "execute_result"
    }
   ],
   "source": [
    "sum(err)/10"
   ]
  },
  {
   "cell_type": "code",
   "execution_count": 28,
   "metadata": {},
   "outputs": [
    {
     "data": {
      "text/plain": [
       "44.5854"
      ]
     },
     "execution_count": 28,
     "metadata": {},
     "output_type": "execute_result"
    }
   ],
   "source": [
    "44.5854"
   ]
  }
 ],
 "metadata": {
  "kernelspec": {
   "display_name": "Python 3",
   "language": "python",
   "name": "python3"
  },
  "language_info": {
   "codemirror_mode": {
    "name": "ipython",
    "version": 3
   },
   "file_extension": ".py",
   "mimetype": "text/x-python",
   "name": "python",
   "nbconvert_exporter": "python",
   "pygments_lexer": "ipython3",
   "version": "3.8.5"
  }
 },
 "nbformat": 4,
 "nbformat_minor": 4
}
